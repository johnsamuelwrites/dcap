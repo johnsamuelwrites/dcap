{
 "cells": [
  {
   "cell_type": "markdown",
   "metadata": {},
   "source": [
    "## Converting E130 from CSV into ShEx: mandatory/repeatable variant\n",
    "\n",
    "Links\n",
    "* https://github.com/dcmi/dcap/blob/master/painting/E130.ipynb - this notebook\n",
    "* https://www.wikidata.org/wiki/EntitySchema:E130 - Wikidata Entity Schema E130\n",
    "  * cached [in ShExC](https://github.com/dcmi/dcap/blob/master/painting/E130.shexc)\n",
    "  * cached [in ShExJ](https://github.com/dcmi/dcap/blob/master/painting/E130.shexj)\n",
    "* https://github.com/dcmi/dcap/blob/master/painting/E130.csv - CSV expression equivalent to E130\n",
    "\n",
    "This notebook documents a proof-of-concept script that takes a CSV expression of Wikidata Entity Schema E130 (a ShEx schema in ShExC syntax) and converts it from CSV back into ShExC syntax."
   ]
  },
  {
   "cell_type": "code",
   "execution_count": 12,
   "metadata": {},
   "outputs": [
    {
     "data": {
      "text/plain": [
       "['Entity_name',\n",
       " 'Property',\n",
       " 'Property_label',\n",
       " 'Mand',\n",
       " 'Repeat',\n",
       " 'Value',\n",
       " 'Value_type',\n",
       " 'Annotation']"
      ]
     },
     "execution_count": 12,
     "metadata": {},
     "output_type": "execute_result"
    }
   ],
   "source": [
    "import csv\n",
    "reader = csv.DictReader(open('E130b.csv', newline='', encoding='utf-8-sig'))\n",
    "reader.fieldnames"
   ]
  },
  {
   "cell_type": "code",
   "execution_count": 13,
   "metadata": {},
   "outputs": [
    {
     "data": {
      "text/plain": [
       "[{'Entity_name': 'painting',\n",
       "  'Property': 'wdt:P31',\n",
       "  'Property_label': 'Is a',\n",
       "  'Mand': 'yes',\n",
       "  'Repeat': 'no',\n",
       "  'Value': 'wd:Q3305213',\n",
       "  'Value_type': 'URI',\n",
       "  'Annotation': 'Instance of \"painting\"'},\n",
       " {'Entity_name': '',\n",
       "  'Property': 'wdt:P571',\n",
       "  'Property_label': 'Date of inception',\n",
       "  'Mand': 'no',\n",
       "  'Repeat': 'no',\n",
       "  'Value': '',\n",
       "  'Value_type': 'DateTime',\n",
       "  'Annotation': ''},\n",
       " {'Entity_name': '',\n",
       "  'Property': 'wdt:P276',\n",
       "  'Property_label': 'Location',\n",
       "  'Mand': 'yes',\n",
       "  'Repeat': 'yes',\n",
       "  'Value': '',\n",
       "  'Value_type': '',\n",
       "  'Annotation': ''},\n",
       " {'Entity_name': '',\n",
       "  'Property': 'wdt:P1476',\n",
       "  'Property_label': 'Title',\n",
       "  'Mand': 'yes',\n",
       "  'Repeat': 'yes',\n",
       "  'Value': '',\n",
       "  'Value_type': '',\n",
       "  'Annotation': ''},\n",
       " {'Entity_name': '',\n",
       "  'Property': 'wdt:P195',\n",
       "  'Property_label': 'Collection',\n",
       "  'Mand': 'yes',\n",
       "  'Repeat': 'yes',\n",
       "  'Value': '',\n",
       "  'Value_type': '',\n",
       "  'Annotation': ''},\n",
       " {'Entity_name': '',\n",
       "  'Property': 'wdt:P170',\n",
       "  'Property_label': 'Creator',\n",
       "  'Mand': 'yes',\n",
       "  'Repeat': 'yes',\n",
       "  'Value': 'creator',\n",
       "  'Value_type': 'Entity_name',\n",
       "  'Annotation': ''},\n",
       " {'Entity_name': 'creator',\n",
       "  'Property': 'wdt:P31',\n",
       "  'Property_label': 'Is a',\n",
       "  'Mand': 'yes',\n",
       "  'Repeat': 'no',\n",
       "  'Value': 'wd:',\n",
       "  'Value_type': 'URIStem',\n",
       "  'Annotation': ''}]"
      ]
     },
     "execution_count": 13,
     "metadata": {},
     "output_type": "execute_result"
    }
   ],
   "source": [
    "all_rows = [dict(row) for row in reader]\n",
    "all_rows"
   ]
  },
  {
   "cell_type": "code",
   "execution_count": 14,
   "metadata": {},
   "outputs": [],
   "source": [
    "prefixes = \"\"\"PREFIX wd: <http://www.wikidata.org/entity/>\n",
    "PREFIX wdt: <http://www.wikidata.org/prop/direct/>\n",
    "PREFIX xsd: <http://www.w3.org/2001/XMLSchema#>\"\"\""
   ]
  },
  {
   "cell_type": "code",
   "execution_count": 15,
   "metadata": {},
   "outputs": [],
   "source": [
    "end_matter = \"\"\"}\n",
    "\n",
    "# Proposed test for SPARQL - Top 25 paintings\n",
    "# SELECT ?id WHERE { VALUES ?id { wd:Q12418 wd:Q45585 wd:Q175036 wd:Q29530 wd:Q185372 wd:Q219831 wd:Q151047 wd:Q208758 wd:Q25729 wd:Q154469 wd:Q474338 wd:Q328523 wd:Q321303 wd:Q1892 745 wd:Q334138 wd:Q1091086 wd:Q698487 wd:Q212616 wd:Q152509 wd:Q152867 wd:Q220859 wd:Q734834  } }\"\"\""
   ]
  },
  {
   "cell_type": "code",
   "execution_count": 16,
   "metadata": {},
   "outputs": [
    {
     "name": "stdout",
     "output_type": "stream",
     "text": [
      "PREFIX wd: <http://www.wikidata.org/entity/>\n",
      "PREFIX wdt: <http://www.wikidata.org/prop/direct/>\n",
      "PREFIX xsd: <http://www.w3.org/2001/XMLSchema#> \n",
      "\n",
      "start = @<painting>\n",
      "\n",
      "<painting> {\n",
      "    # 'Is a' Instance of \"painting\"\n",
      "    wdt:P31 [wd:Q3305213]  ;\n",
      "    # 'Date of inception' \n",
      "    wdt:P571 xsd:dateTime? ;\n",
      "    # 'Location' \n",
      "    wdt:P276 . + ;\n",
      "    # 'Title' \n",
      "    wdt:P1476 . + ;\n",
      "    # 'Collection' \n",
      "    wdt:P195 . + ;\n",
      "    # 'Creator' \n",
      "    wdt:P170 @<creator>+ ;\n",
      "}\n",
      "\n",
      "<creator> {\n",
      "    # 'Is a' \n",
      "    wdt:P31 [wd:~]  ;\n",
      "\n",
      " }\n",
      "\n",
      "# Proposed test for SPARQL - Top 25 paintings\n",
      "# SELECT ?id WHERE { VALUES ?id { wd:Q12418 wd:Q45585 wd:Q175036 wd:Q29530 wd:Q185372 wd:Q219831 wd:Q151047 wd:Q208758 wd:Q25729 wd:Q154469 wd:Q474338 wd:Q328523 wd:Q321303 wd:Q1892 745 wd:Q334138 wd:Q1091086 wd:Q698487 wd:Q212616 wd:Q152509 wd:Q152867 wd:Q220859 wd:Q734834  } }\n"
     ]
    }
   ],
   "source": [
    "schema = []\n",
    "start = ''\n",
    "started = False\n",
    "for row in all_rows:\n",
    "    entity_name = row['Entity_name']\n",
    "    property = row['Property']\n",
    "    property_label = row['Property_label']\n",
    "    mandatory = row['Mand']\n",
    "    repeatable = row['Repeat']\n",
    "    value = row['Value']           # Node Constraint\n",
    "    value_type = row['Value_type'] # Node Constraint\n",
    "    annotation = row['Annotation']\n",
    "    vtype = ''\n",
    "    if not start:\n",
    "        if entity_name:\n",
    "            start_node = entity_name\n",
    "            start = f\"\"\"start = @<{start_node}>\"\"\"\n",
    "            schema.append(f\"{start}\\n\\n\")\n",
    "    if entity_name:\n",
    "        if started:\n",
    "            schema.append(\"}\\n\\n\")\n",
    "        shape_name = f\"<{entity_name}>\" + \" {\\n\"\n",
    "        schema.append(shape_name)\n",
    "        started = True\n",
    "    if property_label:\n",
    "        schema.append(f\"    # {repr(property_label)} {annotation}\\n\")\n",
    "    if mandatory == \"yes\":\n",
    "        if repeatable == \"yes\":\n",
    "            card = '+'\n",
    "        if repeatable == \"no\":\n",
    "            card = ''\n",
    "    if mandatory == \"no\":\n",
    "        if repeatable == \"no\":\n",
    "            card = '?'\n",
    "    if value_type == \"DateTime\":\n",
    "        vtype = \" xsd:dateTime\"\n",
    "        schema.append(f\"    {property}{vtype}{card} ;\\n\")\n",
    "    elif value_type == \"URIStem\":\n",
    "        value = value + \"~\"\n",
    "        schema.append(f\"    {property} [{value}] {card} ;\\n\")\n",
    "    elif value_type == \"Entity_name\":\n",
    "        value = f\"@<{value}>\"\n",
    "        schema.append(f\"    {property} {value}{card} ;\\n\")\n",
    "    elif not value:\n",
    "        schema.append(f\"    {property} . {card} ;\\n\")\n",
    "    elif value:\n",
    "        schema.append(f\"    {property} [{value}] {card} ;\\n\")\n",
    "\n",
    "print(prefixes, \"\\n\")\n",
    "for line in schema:\n",
    "    print(line, end=\"\")\n",
    "print(\"\\n\", end_matter)"
   ]
  },
  {
   "cell_type": "markdown",
   "metadata": {},
   "source": [
    "### Result\n",
    "\n",
    "The resulting schema (above) is identical with [Wikidata Entity Schema E130](https://www.wikidata.org/wiki/EntitySchema:E130).\n",
    "\n",
    "This can be tested by cut-and-pasting the schemas into [ShEx2 online parser](https://rawgit.com/shexSpec/shex.js/master/packages/shex-webapp/doc/shex-simple.html), leaving the data box blank, and running \"validate\".\n",
    "* E130 (ShExC) converted into ShExJ: [the result](https://github.com/dcmi/dcap/blob/master/painting/E130.shexj)\n",
    "* The ShExC schema generated above, converted into ShExJ: [the result](https://github.com/dcmi/dcap/blob/master/painting/E130.shexj_generated)"
   ]
  },
  {
   "cell_type": "code",
   "execution_count": null,
   "metadata": {},
   "outputs": [],
   "source": [
    "import pandas as pd\n",
    "pd.read_csv('E130b.csv')"
   ]
  }
 ],
 "metadata": {
  "kernelspec": {
   "display_name": "gacsenv",
   "language": "python",
   "name": "gacsenv"
  },
  "language_info": {
   "codemirror_mode": {
    "name": "ipython",
    "version": 3
   },
   "file_extension": ".py",
   "mimetype": "text/x-python",
   "name": "python",
   "nbconvert_exporter": "python",
   "pygments_lexer": "ipython3",
   "version": "3.7.4"
  }
 },
 "nbformat": 4,
 "nbformat_minor": 2
}
