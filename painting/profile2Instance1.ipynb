{
 "cells": [
  {
   "cell_type": "markdown",
   "metadata": {},
   "source": [
    "## Converting CSV of Karen's example into ShEx\n",
    "\n",
    "Links\n",
    "* https://github.com/dcmi/dcap/blob/master/painting/profile2Instance1.ipynb - this notebook\n",
    "* https://github.com/dcmi/dcap/blob/master/painting/profile2Instance1.csv - Karen's schema"
   ]
  },
  {
   "cell_type": "code",
   "execution_count": 65,
   "metadata": {},
   "outputs": [
    {
     "data": {
      "text/plain": [
       "['Entity_name',\n",
       " 'Entity_label',\n",
       " 'Property',\n",
       " 'Property_label',\n",
       " 'Cardinality',\n",
       " 'Value',\n",
       " 'Value_type',\n",
       " 'Annotation']"
      ]
     },
     "execution_count": 65,
     "metadata": {},
     "output_type": "execute_result"
    }
   ],
   "source": [
    "import csv\n",
    "reader = csv.DictReader(open('profile2Instance1.csv', newline='', encoding='utf-8-sig'))\n",
    "reader.fieldnames"
   ]
  },
  {
   "cell_type": "code",
   "execution_count": 66,
   "metadata": {},
   "outputs": [
    {
     "data": {
      "text/plain": [
       "[{'Entity_name': 'book',\n",
       "  'Entity_label': 'Book',\n",
       "  'Property': 'dct:creator',\n",
       "  'Property_label': 'Author',\n",
       "  'Cardinality': '0..-1',\n",
       "  'Value': 'person',\n",
       "  'Value_type': 'entity',\n",
       "  'Annotation': 'Author is not required; no limit on the number'},\n",
       " {'Entity_name': '',\n",
       "  'Entity_label': '',\n",
       "  'Property': 'dct:title',\n",
       "  'Property_label': 'Title',\n",
       "  'Cardinality': '1..1',\n",
       "  'Value': '',\n",
       "  'Value_type': 'literal',\n",
       "  'Annotation': 'Each book must have a title'},\n",
       " {'Entity_name': '',\n",
       "  'Entity_label': '',\n",
       "  'Property': 'dct:date',\n",
       "  'Property_label': 'Year of publication',\n",
       "  'Cardinality': '1..1',\n",
       "  'Value': '',\n",
       "  'Value_type': 'xsd:year',\n",
       "  'Annotation': 'Only the year, 9999'},\n",
       " {'Entity_name': 'person',\n",
       "  'Entity_label': 'Person',\n",
       "  'Property': 'foaf:Name',\n",
       "  'Property_label': 'Name',\n",
       "  'Cardinality': '1..1',\n",
       "  'Value': '',\n",
       "  'Value_type': 'literal',\n",
       "  'Annotation': 'Each person has one name'},\n",
       " {'Entity_name': '',\n",
       "  'Entity_label': '',\n",
       "  'Property': 'foaf:mbox',\n",
       "  'Property_label': 'Email',\n",
       "  'Cardinality': '0..1',\n",
       "  'Value': '',\n",
       "  'Value_type': 'URI',\n",
       "  'Annotation': 'Email is optional but only one allowed'},\n",
       " {'Entity_name': '',\n",
       "  'Entity_label': '',\n",
       "  'Property': 'dct:date',\n",
       "  'Property_label': 'Birth year',\n",
       "  'Cardinality': '0..1',\n",
       "  'Value': '',\n",
       "  'Value_type': 'xsd:year',\n",
       "  'Annotation': 'Only the year, 9999'}]"
      ]
     },
     "execution_count": 66,
     "metadata": {},
     "output_type": "execute_result"
    }
   ],
   "source": [
    "all_rows = [dict(row) for row in reader]\n",
    "all_rows"
   ]
  },
  {
   "cell_type": "code",
   "execution_count": 67,
   "metadata": {},
   "outputs": [],
   "source": [
    "prefixes = \"\"\"PREFIX dct: <http://purl.org/dc/terms/>\n",
    "PREFIX xsd: <http://www.w3.org/2001/XMLSchema#>\n",
    "PREFIX foaf: <http://xmlns.com/foaf/0.1/>\"\"\""
   ]
  },
  {
   "cell_type": "code",
   "execution_count": 68,
   "metadata": {},
   "outputs": [],
   "source": [
    "end_matter = \"\"\"}\"\"\""
   ]
  },
  {
   "cell_type": "code",
   "execution_count": 69,
   "metadata": {},
   "outputs": [
    {
     "data": {
      "text/plain": [
       "['entity', 'literal', 'xsd:year', 'literal', 'URI', 'xsd:year']"
      ]
     },
     "execution_count": 69,
     "metadata": {},
     "output_type": "execute_result"
    }
   ],
   "source": [
    "[ row['Value_type'] for row in all_rows ]"
   ]
  },
  {
   "cell_type": "code",
   "execution_count": 70,
   "metadata": {},
   "outputs": [
    {
     "data": {
      "text/plain": [
       "{'0..-1', '0..1', '1..1'}"
      ]
     },
     "execution_count": 70,
     "metadata": {},
     "output_type": "execute_result"
    }
   ],
   "source": [
    "set([ row['Cardinality'] for row in all_rows ])"
   ]
  },
  {
   "cell_type": "code",
   "execution_count": 71,
   "metadata": {},
   "outputs": [
    {
     "data": {
      "text/html": [
       "<div>\n",
       "<style scoped>\n",
       "    .dataframe tbody tr th:only-of-type {\n",
       "        vertical-align: middle;\n",
       "    }\n",
       "\n",
       "    .dataframe tbody tr th {\n",
       "        vertical-align: top;\n",
       "    }\n",
       "\n",
       "    .dataframe thead th {\n",
       "        text-align: right;\n",
       "    }\n",
       "</style>\n",
       "<table border=\"1\" class=\"dataframe\">\n",
       "  <thead>\n",
       "    <tr style=\"text-align: right;\">\n",
       "      <th></th>\n",
       "      <th>Entity_name</th>\n",
       "      <th>Entity_label</th>\n",
       "      <th>Property</th>\n",
       "      <th>Property_label</th>\n",
       "      <th>Cardinality</th>\n",
       "      <th>Value</th>\n",
       "      <th>Value_type</th>\n",
       "      <th>Annotation</th>\n",
       "    </tr>\n",
       "  </thead>\n",
       "  <tbody>\n",
       "    <tr>\n",
       "      <th>0</th>\n",
       "      <td>book</td>\n",
       "      <td>Book</td>\n",
       "      <td>dct:creator</td>\n",
       "      <td>Author</td>\n",
       "      <td>0..-1</td>\n",
       "      <td>person</td>\n",
       "      <td>entity</td>\n",
       "      <td>Author is not required; no limit on the number</td>\n",
       "    </tr>\n",
       "    <tr>\n",
       "      <th>1</th>\n",
       "      <td>NaN</td>\n",
       "      <td>NaN</td>\n",
       "      <td>dct:title</td>\n",
       "      <td>Title</td>\n",
       "      <td>1..1</td>\n",
       "      <td>NaN</td>\n",
       "      <td>literal</td>\n",
       "      <td>Each book must have a title</td>\n",
       "    </tr>\n",
       "    <tr>\n",
       "      <th>2</th>\n",
       "      <td>NaN</td>\n",
       "      <td>NaN</td>\n",
       "      <td>dct:date</td>\n",
       "      <td>Year of publication</td>\n",
       "      <td>1..1</td>\n",
       "      <td>NaN</td>\n",
       "      <td>xsd:year</td>\n",
       "      <td>Only the year, 9999</td>\n",
       "    </tr>\n",
       "    <tr>\n",
       "      <th>3</th>\n",
       "      <td>person</td>\n",
       "      <td>Person</td>\n",
       "      <td>foaf:Name</td>\n",
       "      <td>Name</td>\n",
       "      <td>1..1</td>\n",
       "      <td>NaN</td>\n",
       "      <td>literal</td>\n",
       "      <td>Each person has one name</td>\n",
       "    </tr>\n",
       "    <tr>\n",
       "      <th>4</th>\n",
       "      <td>NaN</td>\n",
       "      <td>NaN</td>\n",
       "      <td>foaf:mbox</td>\n",
       "      <td>Email</td>\n",
       "      <td>0..1</td>\n",
       "      <td>NaN</td>\n",
       "      <td>URI</td>\n",
       "      <td>Email is optional but only one allowed</td>\n",
       "    </tr>\n",
       "    <tr>\n",
       "      <th>5</th>\n",
       "      <td>NaN</td>\n",
       "      <td>NaN</td>\n",
       "      <td>dct:date</td>\n",
       "      <td>Birth year</td>\n",
       "      <td>0..1</td>\n",
       "      <td>NaN</td>\n",
       "      <td>xsd:year</td>\n",
       "      <td>Only the year, 9999</td>\n",
       "    </tr>\n",
       "  </tbody>\n",
       "</table>\n",
       "</div>"
      ],
      "text/plain": [
       "  Entity_name Entity_label     Property       Property_label Cardinality  \\\n",
       "0        book         Book  dct:creator               Author       0..-1   \n",
       "1         NaN          NaN    dct:title                Title        1..1   \n",
       "2         NaN          NaN     dct:date  Year of publication        1..1   \n",
       "3      person       Person    foaf:Name                 Name        1..1   \n",
       "4         NaN          NaN    foaf:mbox                Email        0..1   \n",
       "5         NaN          NaN     dct:date           Birth year        0..1   \n",
       "\n",
       "    Value Value_type                                      Annotation  \n",
       "0  person     entity  Author is not required; no limit on the number  \n",
       "1     NaN    literal                     Each book must have a title  \n",
       "2     NaN   xsd:year                             Only the year, 9999  \n",
       "3     NaN    literal                        Each person has one name  \n",
       "4     NaN        URI          Email is optional but only one allowed  \n",
       "5     NaN   xsd:year                             Only the year, 9999  "
      ]
     },
     "execution_count": 71,
     "metadata": {},
     "output_type": "execute_result"
    }
   ],
   "source": [
    "import pandas as pd\n",
    "pd.read_csv('profile2Instance1.csv')"
   ]
  },
  {
   "cell_type": "code",
   "execution_count": 72,
   "metadata": {},
   "outputs": [
    {
     "name": "stdout",
     "output_type": "stream",
     "text": [
      "PREFIX dct: <http://purl.org/dc/terms/>\n",
      "PREFIX xsd: <http://www.w3.org/2001/XMLSchema#>\n",
      "PREFIX foaf: <http://xmlns.com/foaf/0.1/> \n",
      "\n",
      "start = @<book>\n",
      "\n",
      "<book> {\n",
      "    # 'Author' Author is not required; no limit on the number\n",
      "    dct:creator @<person>* ;\n",
      "    # 'Title' Each book must have a title\n",
      "    dct:title xsd:string  ;\n",
      "    # 'Year of publication' Only the year, 9999\n",
      "    dct:date xsd:year ;\n",
      "}\n",
      "\n",
      "<person> {\n",
      "    # 'Name' Each person has one name\n",
      "    foaf:Name xsd:string  ;\n",
      "    # 'Email' Email is optional but only one allowed\n",
      "    foaf:mbox . ? ;\n",
      "    # 'Birth year' Only the year, 9999\n",
      "    dct:date xsd:year? ;\n",
      "\n",
      " }\n"
     ]
    }
   ],
   "source": [
    "schema = []\n",
    "start = ''\n",
    "started = False\n",
    "for row in all_rows:\n",
    "    entity_name = row['Entity_name']\n",
    "    property = row['Property']\n",
    "    property_label = row['Property_label']\n",
    "    cardinality = row['Cardinality']\n",
    "    value_type = row['Value_type'] # Node Constraint\n",
    "    value = row['Value'] # Node Constraint\n",
    "    annotation = row['Annotation']\n",
    "    vtype = ''\n",
    "    card = ''\n",
    "    if not start:\n",
    "        if entity_name:\n",
    "            start_node = entity_name\n",
    "            start = f\"\"\"start = @<{start_node}>\"\"\"\n",
    "            schema.append(f\"{start}\\n\\n\")\n",
    "    if entity_name:\n",
    "        if started:\n",
    "            schema.append(\"}\\n\\n\")\n",
    "        shape_name = f\"<{entity_name}>\" + \" {\\n\"\n",
    "        schema.append(shape_name)\n",
    "        started = True\n",
    "    if property_label:\n",
    "        schema.append(f\"    # {repr(property_label)} {annotation}\\n\")\n",
    "    if cardinality == \"1..1\":\n",
    "        card = ''\n",
    "    elif cardinality == \"0..1\":\n",
    "        card = '?'\n",
    "    elif cardinality == \"0..-1\":\n",
    "        card = '*'\n",
    "    if value_type == \"xsd:year\":\n",
    "        vtype = \" xsd:year\"\n",
    "        schema.append(f\"    {property}{vtype}{card} ;\\n\")\n",
    "    elif value_type == \"literal\":\n",
    "        value = \"xsd:string\"\n",
    "        schema.append(f\"    {property} {value} {card} ;\\n\")\n",
    "    elif value_type == \"entity\":\n",
    "        value = f\"@<{value}>\"\n",
    "        schema.append(f\"    {property} {value}{card} ;\\n\")\n",
    "    elif not value:\n",
    "        schema.append(f\"    {property} . {card} ;\\n\")\n",
    "    elif value:\n",
    "        schema.append(f\"    {property} [{value}] {card} ;\\n\")\n",
    "\n",
    "print(prefixes, \"\\n\")\n",
    "for line in schema:\n",
    "    print(line, end=\"\")\n",
    "print(\"\\n\", end_matter)"
   ]
  }
 ],
 "metadata": {
  "kernelspec": {
   "display_name": "gacsenv",
   "language": "python",
   "name": "gacsenv"
  },
  "language_info": {
   "codemirror_mode": {
    "name": "ipython",
    "version": 3
   },
   "file_extension": ".py",
   "mimetype": "text/x-python",
   "name": "python",
   "nbconvert_exporter": "python",
   "pygments_lexer": "ipython3",
   "version": "3.7.4"
  }
 },
 "nbformat": 4,
 "nbformat_minor": 2
}
