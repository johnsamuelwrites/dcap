{
 "cells": [
  {
   "cell_type": "markdown",
   "metadata": {},
   "source": [
    "#  Shex Creation Help\n",
    "\n",
    "This tool will help to generate SheX for a given entity (Example E130.ipynb written by Tom Baker)\n",
    "\n",
    "1. Obtaining suggestions for a given item\n",
    "\n",
    "Given an item identifier (Q-number) on Wikidata,we would like to know the properties suggested by Wikidata. Wikidata has a suggestions operations for this purpose. \n",
    "\n",
    "2. Get properties of instances of an item\n",
    "\n",
    "Given an item identifier (Q-number) on Wikidata, we would like to know the properties used by instances of this item\n",
    "\n",
    "### Acknowledgements\n",
    "Andra Waagmeester, Martin "
   ]
  },
  {
   "cell_type": "code",
   "execution_count": 68,
   "metadata": {},
   "outputs": [],
   "source": [
    "import requests\n",
    "\n",
    "baseurl=\"https://www.wikidata.org/w/api.php?action=wbsgetsuggestions&format=json&limit=50&entity=\"\n",
    "\n",
    "def get_property_suggestions(entity):\n",
    "    \"\"\"\n",
    "    Returns string of property suggestion\n",
    "\n",
    "    Parameters:\n",
    "        entity (str): identifier of an identity\n",
    "\n",
    "    Returns:\n",
    "        (list): list of properties\n",
    "\n",
    "    \"\"\"\n",
    "    \n",
    "    propertylist = []\n",
    "    url = baseurl + entity\n",
    "    response = requests.get(url)\n",
    "    if(response.status_code == 200):\n",
    "        results = response.json()\n",
    "        for prop in results[\"search\"]:\n",
    "            propertylist.append(\"wdt:\" + prop[\"id\"])\n",
    "            \n",
    "    return(propertylist)"
   ]
  },
  {
   "cell_type": "code",
   "execution_count": 84,
   "metadata": {},
   "outputs": [
    {
     "name": "stdout",
     "output_type": "stream",
     "text": [
      "['wdt:P17']\n"
     ]
    }
   ],
   "source": [
    "l = get_property_suggestions(\"Q901\")\n",
    "print(l)"
   ]
  },
  {
   "cell_type": "code",
   "execution_count": 70,
   "metadata": {},
   "outputs": [],
   "source": [
    "from urllib.parse import quote\n",
    "def get_currently_used_properties(entityid):\n",
    "    propertylist = []\n",
    "    query = \"\"\"\n",
    "       SELECT DISTINCT ?property\n",
    "       {\n",
    "          ?entity wdt:P31 wd:entityid;\n",
    "                  ?prop [].\n",
    "          ?property wikibase:directClaim ?prop.\n",
    "       }\"\"\"\n",
    "    baseurl = \"https://query.wikidata.org/sparql?query=\"\n",
    "    formatstr = \"&format=json\"\n",
    "\n",
    "    query = query.replace(\"entityid\", entityid)\n",
    "    url = baseurl+quote(query)+formatstr\n",
    "    response = requests.get(url)\n",
    "    if(response.status_code == 200):\n",
    "        results = response.json()\n",
    "        for prop in results[\"results\"][\"bindings\"]:\n",
    "            propertylist.append(prop[\"property\"][\"value\"].replace(\"http://www.wikidata.org/entity/\",\"wdt:\"))\n",
    "    \n",
    "    return(propertylist)"
   ]
  },
  {
   "cell_type": "code",
   "execution_count": 83,
   "metadata": {},
   "outputs": [
    {
     "name": "stdout",
     "output_type": "stream",
     "text": [
      "['wdt:P279', 'wdt:P373', 'wdt:P69', 'wdt:P425', 'wdt:P1442', 'wdt:P31', 'wdt:P1559', 'wdt:P7148', 'wdt:P135', 'wdt:P4742', 'wdt:P802', 'wdt:P1053', 'wdt:P21', 'wdt:P19', 'wdt:P244', 'wdt:P1412', 'wdt:P734', 'wdt:P17', 'wdt:P2521', 'wdt:P119', 'wdt:P570', 'wdt:P569', 'wdt:P460', 'wdt:P512', 'wdt:P101', 'wdt:P1343', 'wdt:P691', 'wdt:P1153', 'wdt:P803', 'wdt:P185', 'wdt:P2163', 'wdt:P4252', 'wdt:P2650', 'wdt:P172', 'wdt:P496', 'wdt:P1066', 'wdt:P227', 'wdt:P18', 'wdt:P1960', 'wdt:P4613', 'wdt:P20', 'wdt:P40', 'wdt:P166', 'wdt:P22', 'wdt:P106', 'wdt:P463', 'wdt:P735', 'wdt:P108', 'wdt:P27', 'wdt:P213', 'wdt:P39', 'wdt:P1801', 'wdt:P214']\n"
     ]
    }
   ],
   "source": [
    "def get_properties(entity):\n",
    "    propertylist = []\n",
    "    propertylist.extend(get_property_suggestions(entity))\n",
    "    propertylist.extend(get_currently_used_properties(entity))\n",
    "                        \n",
    "    return list(set(propertylist))\n",
    "\n",
    "print(get_properties(\"Q901\"))"
   ]
  },
  {
   "cell_type": "code",
   "execution_count": 82,
   "metadata": {},
   "outputs": [
    {
     "name": "stdout",
     "output_type": "stream",
     "text": [
      "Q901, wdt:P279, http://wikiba.se/ontology#WikibaseItem\n",
      "Q901, wdt:P425, http://wikiba.se/ontology#WikibaseItem\n",
      "Q901, wdt:P460, http://wikiba.se/ontology#WikibaseItem\n",
      "Q901, wdt:P463, http://wikiba.se/ontology#WikibaseItem\n",
      "Q901, wdt:P512, http://wikiba.se/ontology#WikibaseItem\n",
      "Q901, wdt:P735, http://wikiba.se/ontology#WikibaseItem\n",
      "Q901, wdt:P734, http://wikiba.se/ontology#WikibaseItem\n",
      "Q901, wdt:P803, http://wikiba.se/ontology#WikibaseItem\n",
      "Q901, wdt:P802, http://wikiba.se/ontology#WikibaseItem\n",
      "Q901, wdt:P1066, http://wikiba.se/ontology#WikibaseItem\n",
      "Q901, wdt:P1343, http://wikiba.se/ontology#WikibaseItem\n",
      "Q901, wdt:P1412, http://wikiba.se/ontology#WikibaseItem\n",
      "Q901, wdt:P2650, http://wikiba.se/ontology#WikibaseItem\n",
      "Q901, wdt:P17, http://wikiba.se/ontology#WikibaseItem\n",
      "Q901, wdt:P19, http://wikiba.se/ontology#WikibaseItem\n",
      "Q901, wdt:P21, http://wikiba.se/ontology#WikibaseItem\n",
      "Q901, wdt:P20, http://wikiba.se/ontology#WikibaseItem\n",
      "Q901, wdt:P22, http://wikiba.se/ontology#WikibaseItem\n",
      "Q901, wdt:P27, http://wikiba.se/ontology#WikibaseItem\n",
      "Q901, wdt:P31, http://wikiba.se/ontology#WikibaseItem\n",
      "Q901, wdt:P39, http://wikiba.se/ontology#WikibaseItem\n",
      "Q901, wdt:P40, http://wikiba.se/ontology#WikibaseItem\n",
      "Q901, wdt:P69, http://wikiba.se/ontology#WikibaseItem\n",
      "Q901, wdt:P101, http://wikiba.se/ontology#WikibaseItem\n",
      "Q901, wdt:P106, http://wikiba.se/ontology#WikibaseItem\n",
      "Q901, wdt:P108, http://wikiba.se/ontology#WikibaseItem\n",
      "Q901, wdt:P119, http://wikiba.se/ontology#WikibaseItem\n",
      "Q901, wdt:P135, http://wikiba.se/ontology#WikibaseItem\n",
      "Q901, wdt:P166, http://wikiba.se/ontology#WikibaseItem\n",
      "Q901, wdt:P172, http://wikiba.se/ontology#WikibaseItem\n",
      "Q901, wdt:P185, http://wikiba.se/ontology#WikibaseItem\n",
      "Q901, wdt:P1442, http://wikiba.se/ontology#CommonsMedia\n",
      "Q901, wdt:P1801, http://wikiba.se/ontology#CommonsMedia\n",
      "Q901, wdt:P18, http://wikiba.se/ontology#CommonsMedia\n",
      "Q901, wdt:P373, http://wikiba.se/ontology#String\n",
      "Q901, wdt:P496, http://wikiba.se/ontology#ExternalId\n",
      "Q901, wdt:P691, http://wikiba.se/ontology#ExternalId\n",
      "Q901, wdt:P1053, http://wikiba.se/ontology#ExternalId\n",
      "Q901, wdt:P1153, http://wikiba.se/ontology#ExternalId\n",
      "Q901, wdt:P1960, http://wikiba.se/ontology#ExternalId\n",
      "Q901, wdt:P2163, http://wikiba.se/ontology#ExternalId\n",
      "Q901, wdt:P4252, http://wikiba.se/ontology#ExternalId\n",
      "Q901, wdt:P4613, http://wikiba.se/ontology#ExternalId\n",
      "Q901, wdt:P4742, http://wikiba.se/ontology#ExternalId\n",
      "Q901, wdt:P7148, http://wikiba.se/ontology#ExternalId\n",
      "Q901, wdt:P213, http://wikiba.se/ontology#ExternalId\n",
      "Q901, wdt:P214, http://wikiba.se/ontology#ExternalId\n",
      "Q901, wdt:P227, http://wikiba.se/ontology#ExternalId\n",
      "Q901, wdt:P244, http://wikiba.se/ontology#ExternalId\n",
      "Q901, wdt:P569, http://wikiba.se/ontology#Time\n",
      "Q901, wdt:P570, http://wikiba.se/ontology#Time\n",
      "Q901, wdt:P1559, http://wikiba.se/ontology#Monolingualtext\n",
      "Q901, wdt:P2521, http://wikiba.se/ontology#Monolingualtext\n"
     ]
    }
   ],
   "source": [
    "def get_property_datatype(entityid):\n",
    "    csvresult =[]\n",
    "    propertylist = get_properties(entityid)\n",
    "    propertyliststr = ' '.join(propertylist) \n",
    "    query = \"\"\"\n",
    "    SELECT DISTINCT (\"entityid\" as ?entity) ?property ?datatype\n",
    "    {\n",
    "       VALUES ?prop {propertylist}.\n",
    "       ?property wikibase:directClaim ?prop;\n",
    "            wikibase:propertyType ?datatype.\n",
    "    }\"\"\"\n",
    "    \n",
    "    baseurl = \"https://query.wikidata.org/sparql?query=\"\n",
    "    formatstr = \"&format=json\"\n",
    "\n",
    "    query = query.replace(\"entityid\", entityid)\n",
    "    query = query.replace(\"propertylist\", propertyliststr)\n",
    "    url = baseurl+quote(query)+formatstr\n",
    "    response = requests.get(url)\n",
    "    if(response.status_code == 200):\n",
    "        results = response.json()\n",
    "        for result in results[\"results\"][\"bindings\"]:\n",
    "            csvresult.append(result[\"entity\"][\"value\"]+ \", \" +\n",
    "                   result[\"property\"][\"value\"].replace(\"http://www.wikidata.org/entity/\", \"wdt:\")+ \", \" +\n",
    "                   result[\"datatype\"][\"value\"])\n",
    "    return(csvresult)\n",
    "        \n",
    "print('\\n'.join(get_property_datatype(\"Q901\")))"
   ]
  }
 ],
 "metadata": {
  "kernelspec": {
   "display_name": "Python 3",
   "language": "python",
   "name": "python3"
  },
  "language_info": {
   "codemirror_mode": {
    "name": "ipython",
    "version": 3
   },
   "file_extension": ".py",
   "mimetype": "text/x-python",
   "name": "python",
   "nbconvert_exporter": "python",
   "pygments_lexer": "ipython3",
   "version": "3.6.8"
  }
 },
 "nbformat": 4,
 "nbformat_minor": 2
}
