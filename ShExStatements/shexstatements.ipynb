{
 "cells": [
  {
   "cell_type": "code",
   "execution_count": 1,
   "metadata": {},
   "outputs": [],
   "source": [
    "shexstatement = \"\"\"\n",
    "painting|P31|Q3305213\n",
    "painting|P571|xsd:dateTime\n",
    "painting|P276|.|+\n",
    "painting|P1476|.|+ \n",
    "painting|P195|.|+\n",
    "painting|P170|creator|+\n",
    "creator|P31|.|+\n",
    "\"\"\""
   ]
  },
  {
   "cell_type": "code",
   "execution_count": 15,
   "metadata": {},
   "outputs": [
    {
     "name": "stdout",
     "output_type": "stream",
     "text": [
      "PREFIX wd: <http://www.wikidata.org/entity/>\n",
      "PREFIX wdt: <http://www.wikidata.org/prop/direct/>\n",
      "start = @painting\n",
      "painting {\n",
      "  wdt:P31 wd:Q3305213 ;\n",
      "  wdt:P571 @xsd:dateTime  ;\n",
      "  wdt:P276  .  + ;\n",
      "  wdt:P1476  .  ;\n",
      "  wdt:P195  .  + ;\n",
      "  wdt:P170 @creator  + ;\n",
      "}\n",
      "creator {\n",
      "  wdt:P31  .  + ;\n",
      "}\n"
     ]
    }
   ],
   "source": [
    "start = None\n",
    "nodeconstraints = {}\n",
    "for line in shexstatement.split(\"\\n\"):\n",
    "    terms = line.split(\"|\")\n",
    "    if len(terms) < 3:\n",
    "        continue\n",
    "    else:\n",
    "        if terms[0] not in nodeconstraints:\n",
    "            nodeconstraints[terms[0]] = []\n",
    "        if start is None:\n",
    "            start = terms[0]\n",
    "        combination = []\n",
    "        term2 = None\n",
    "        if terms[1].startswith(\"P\"):\n",
    "            term2 = \"wdt:\" + terms[1]\n",
    "            combination.append(term2)\n",
    "        term3 = terms[2]\n",
    "        if term3.startswith(\"Q\"):\n",
    "            term3 = \"wd:\" + term3\n",
    "        elif(term3 == \".\"):\n",
    "            term3 = \" \" + term3 + \" \"\n",
    "        else:\n",
    "            term3 = \"@\" + term3 + \" \"\n",
    "        combination.append(term3)\n",
    "        cardinality = None\n",
    "        allowedvalues = {\"+\", \"*\"}\n",
    "        if (len(terms) > 3):\n",
    "            if terms[3] in allowedvalues:\n",
    "                cardinality = terms[3]\n",
    "                combination.append(cardinality)\n",
    "        nodeconstraints[terms[0]].append(combination)\n",
    "\n",
    "print(\"PREFIX wd: <http://www.wikidata.org/entity/>\")\n",
    "print(\"PREFIX wdt: <http://www.wikidata.org/prop/direct/>\")\n",
    "if start is not None:\n",
    "      print(\"start = @\" + start)\n",
    "\n",
    "for key in nodeconstraints.keys():\n",
    "    print(key + \" {\" )\n",
    "    for combination in nodeconstraints[key]:\n",
    "        print(\"  \" +\" \".join(combination) + \" ;\")\n",
    "    print(\"}\")"
   ]
  },
  {
   "cell_type": "code",
   "execution_count": null,
   "metadata": {},
   "outputs": [],
   "source": []
  }
 ],
 "metadata": {
  "kernelspec": {
   "display_name": "Python 3",
   "language": "python",
   "name": "python3"
  },
  "language_info": {
   "codemirror_mode": {
    "name": "ipython",
    "version": 3
   },
   "file_extension": ".py",
   "mimetype": "text/x-python",
   "name": "python",
   "nbconvert_exporter": "python",
   "pygments_lexer": "ipython3",
   "version": "3.6.9"
  }
 },
 "nbformat": 4,
 "nbformat_minor": 2
}
